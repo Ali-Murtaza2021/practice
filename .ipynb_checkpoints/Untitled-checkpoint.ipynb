{
 "cells": [
  {
   "cell_type": "code",
   "execution_count": 1,
   "id": "78afda04",
   "metadata": {},
   "outputs": [
    {
     "data": {
      "text/plain": [
       "' My name is Ali Murtaza'"
      ]
     },
     "execution_count": 1,
     "metadata": {},
     "output_type": "execute_result"
    }
   ],
   "source": [
    "\n",
    "name\n"
   ]
  },
  {
   "cell_type": "code",
   "execution_count": 2,
   "id": "00597fd6",
   "metadata": {},
   "outputs": [
    {
     "data": {
      "text/plain": [
       "23"
      ]
     },
     "execution_count": 2,
     "metadata": {},
     "output_type": "execute_result"
    }
   ],
   "source": []
  },
  {
   "cell_type": "code",
   "execution_count": 4,
   "id": "52dc21f2",
   "metadata": {},
   "outputs": [
    {
     "name": "stdout",
     "output_type": "stream",
     "text": [
      "Enter a length of rectangle12\n"
     ]
    }
   ],
   "source": [
    "L = int(input(\"Enter a length of rectangle\"))"
   ]
  },
  {
   "cell_type": "code",
   "execution_count": 5,
   "id": "131f1512",
   "metadata": {},
   "outputs": [
    {
     "name": "stdout",
     "output_type": "stream",
     "text": [
      "Enter a width of rectangle45\n"
     ]
    }
   ],
   "source": [
    " W = int(input(\"Enter a width of rectangle\"))\n"
   ]
  },
  {
   "cell_type": "code",
   "execution_count": 10,
   "id": "3c98deee",
   "metadata": {},
   "outputs": [
    {
     "ename": "SyntaxError",
     "evalue": "unexpected EOF while parsing (Temp/ipykernel_12524/787221280.py, line 1)",
     "output_type": "error",
     "traceback": [
      "\u001b[1;36m  File \u001b[1;32m\"C:\\Users\\LAPTOP~1\\AppData\\Local\\Temp/ipykernel_12524/787221280.py\"\u001b[1;36m, line \u001b[1;32m1\u001b[0m\n\u001b[1;33m    if (L==W):\u001b[0m\n\u001b[1;37m              ^\u001b[0m\n\u001b[1;31mSyntaxError\u001b[0m\u001b[1;31m:\u001b[0m unexpected EOF while parsing\n"
     ]
    }
   ],
   "source": [
    "if L==W:"
   ]
  },
  {
   "cell_type": "code",
   "execution_count": null,
   "id": "62b20b21",
   "metadata": {},
   "outputs": [],
   "source": [
    "print(\"It is Square\")"
   ]
  },
  {
   "cell_type": "code",
   "execution_count": 11,
   "id": "7d50c7b2",
   "metadata": {},
   "outputs": [
    {
     "ename": "SyntaxError",
     "evalue": "invalid syntax (Temp/ipykernel_12524/56266432.py, line 1)",
     "output_type": "error",
     "traceback": [
      "\u001b[1;36m  File \u001b[1;32m\"C:\\Users\\LAPTOP~1\\AppData\\Local\\Temp/ipykernel_12524/56266432.py\"\u001b[1;36m, line \u001b[1;32m1\u001b[0m\n\u001b[1;33m    else(L!=W):\u001b[0m\n\u001b[1;37m       ^\u001b[0m\n\u001b[1;31mSyntaxError\u001b[0m\u001b[1;31m:\u001b[0m invalid syntax\n"
     ]
    }
   ],
   "source": [
    "else L!=W:"
   ]
  },
  {
   "cell_type": "code",
   "execution_count": 12,
   "id": "20c81dac",
   "metadata": {},
   "outputs": [
    {
     "name": "stdout",
     "output_type": "stream",
     "text": [
      "It is a rectangle\n"
     ]
    }
   ],
   "source": [
    "print(\"It is a rectangle\")"
   ]
  },
  {
   "cell_type": "code",
   "execution_count": null,
   "id": "601162ca",
   "metadata": {},
   "outputs": [],
   "source": []
  }
 ],
 "metadata": {
  "kernelspec": {
   "display_name": "Python 3 (ipykernel)",
   "language": "python",
   "name": "python3"
  },
  "language_info": {
   "codemirror_mode": {
    "name": "ipython",
    "version": 3
   },
   "file_extension": ".py",
   "mimetype": "text/x-python",
   "name": "python",
   "nbconvert_exporter": "python",
   "pygments_lexer": "ipython3",
   "version": "3.7.9"
  }
 },
 "nbformat": 4,
 "nbformat_minor": 5
}
